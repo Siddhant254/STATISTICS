{
 "cells": [
  {
   "cell_type": "markdown",
   "id": "48f7dd4f",
   "metadata": {},
   "source": [
    "## Probability mass function"
   ]
  },
  {
   "cell_type": "code",
   "execution_count": 2,
   "id": "302da2ab",
   "metadata": {},
   "outputs": [],
   "source": [
    "import pandas as pd\n",
    "import random"
   ]
  },
  {
   "cell_type": "code",
   "execution_count": 3,
   "id": "00abd213",
   "metadata": {},
   "outputs": [],
   "source": [
    "# Roll of a die 10000 times\n",
    "\n",
    "l = []\n",
    "\n",
    "for i in range(10000):\n",
    "    l.append(random.randint(1,6))"
   ]
  },
  {
   "cell_type": "code",
   "execution_count": 4,
   "id": "e9ca4a54",
   "metadata": {},
   "outputs": [
    {
     "data": {
      "text/plain": [
       "10000"
      ]
     },
     "execution_count": 4,
     "metadata": {},
     "output_type": "execute_result"
    }
   ],
   "source": [
    "len(l)"
   ]
  },
  {
   "cell_type": "code",
   "execution_count": 5,
   "id": "1b2a9880",
   "metadata": {},
   "outputs": [
    {
     "name": "stdout",
     "output_type": "stream",
     "text": [
      "0       3\n",
      "1       2\n",
      "2       5\n",
      "3       5\n",
      "4       5\n",
      "       ..\n",
      "9995    1\n",
      "9996    2\n",
      "9997    4\n",
      "9998    1\n",
      "9999    6\n",
      "Length: 10000, dtype: int64\n"
     ]
    }
   ],
   "source": [
    "# Converting list into series\n",
    "ser = pd.Series(l)\n",
    "print(ser)"
   ]
  },
  {
   "cell_type": "code",
   "execution_count": 10,
   "id": "80162eb7",
   "metadata": {},
   "outputs": [],
   "source": [
    "# Probability of every number on a die\n",
    "prob_value = (ser.value_counts() / ser.value_counts().sum()).sort_index()"
   ]
  },
  {
   "cell_type": "code",
   "execution_count": 14,
   "id": "f425e74a",
   "metadata": {},
   "outputs": [
    {
     "data": {
      "text/plain": [
       "<AxesSubplot:>"
      ]
     },
     "execution_count": 14,
     "metadata": {},
     "output_type": "execute_result"
    },
    {
     "data": {
      "image/png": "[encoded data removed]",
      "text/plain": [
       "<Figure size 432x288 with 1 Axes>"
      ]
     },
     "metadata": {
      "needs_background": "light"
     },
     "output_type": "display_data"
    }
   ],
   "source": [
    "# pmf \n",
    "prob_value.plot(kind = 'bar')\n"
   ]
  },
  {
   "cell_type": "code",
   "execution_count": null,
   "id": "aafb27fe",
   "metadata": {},
   "outputs": [],
   "source": [
    "# ROLLING TWO DICE TOGETHER"
   ]
  },
  {
   "cell_type": "code",
   "execution_count": 17,
   "id": "7d1975d5",
   "metadata": {},
   "outputs": [
    {
     "data": {
      "text/plain": [
       "<AxesSubplot:>"
      ]
     },
     "execution_count": 17,
     "metadata": {},
     "output_type": "execute_result"
    },
    {
     "data": {
      "image/png": "[encoded data removed]",
      "text/plain": [
       "<Figure size 432x288 with 1 Axes>"
      ]
     },
     "metadata": {
      "needs_background": "light"
     },
     "output_type": "display_data"
    }
   ],
   "source": [
    "l = []\n",
    "\n",
    "for i in range(10000):\n",
    "    a = random.randint(1,6)\n",
    "    b = random.randint(1,6)\n",
    "    \n",
    "    l.append(a+b)  # Adding sum of numbers to the list\n",
    "    \n",
    "# Converting list into series\n",
    "ser = pd.Series(l)\n",
    "   \n",
    "\n",
    "# Probability of every number on a die\n",
    "prob_value = (ser.value_counts() / ser.value_counts().sum()).sort_index()\n",
    "\n",
    "# pmf \n",
    "prob_value.plot(kind = 'bar')\n"
   ]
  },
  {
   "cell_type": "markdown",
   "id": "1ea6d72c",
   "metadata": {},
   "source": [
    "## CUMMULATIVE DISTRIBUTION FUNCTION (CDF)"
   ]
  },
  {
   "cell_type": "code",
   "execution_count": 18,
   "id": "04699e55",
   "metadata": {},
   "outputs": [
    {
     "data": {
      "text/plain": [
       "<AxesSubplot:>"
      ]
     },
     "execution_count": 18,
     "metadata": {},
     "output_type": "execute_result"
    },
    {
     "data": {
      "image/png": "[encoded data removed]",
      "text/plain": [
       "<Figure size 432x288 with 1 Axes>"
      ]
     },
     "metadata": {
      "needs_background": "light"
     },
     "output_type": "display_data"
    }
   ],
   "source": [
    "import numpy as np\n",
    "\n",
    "l = []\n",
    "\n",
    "for i in range(10000):\n",
    "    a = random.randint(1,6)\n",
    "    b = random.randint(1,6)\n",
    "    \n",
    "    l.append(a+b)  # Adding sum of numbers to the list\n",
    "    \n",
    "# Converting list into series\n",
    "ser = pd.Series(l)\n",
    "   \n",
    "\n",
    "# Probability of every number on a die\n",
    "prob_value = (ser.value_counts() / ser.value_counts().sum()).sort_index()\n",
    "cum_prob = np.cumsum(prob_value)\n",
    "\n",
    "# pmf \n",
    "cum_prob.plot(kind = 'bar')"
   ]
  },
  {
   "cell_type": "markdown",
   "id": "4ce6d307",
   "metadata": {},
   "source": [
    "## PROBABILITY DENSITY FUNCTION (PDF)"
   ]
  },
  {
   "cell_type": "code",
   "execution_count": 19,
   "id": "71780936",
   "metadata": {},
   "outputs": [],
   "source": [
    "#PARAMETRIC DENSITY"
   ]
  },
  {
   "cell_type": "code",
   "execution_count": 20,
   "id": "0b54bdf7",
   "metadata": {},
   "outputs": [],
   "source": [
    "import matplotlib.pyplot as plt\n",
    "import numpy as np\n",
    "from numpy.random import normal \n",
    "\n",
    "#creating a normal distributed random data\n",
    "sample = normal(loc=50,scale=5,size=1000)"
   ]
  },
  {
   "cell_type": "code",
   "execution_count": 21,
   "id": "8f999805",
   "metadata": {},
   "outputs": [
    {
     "data": {
      "text/plain": [
       "(array([  2.,   3.,  17.,  63., 172., 266., 287., 130.,  47.,  13.]),\n",
       " array([28.87988514, 32.41599665, 35.95210816, 39.48821967, 43.02433118,\n",
       "        46.56044268, 50.09655419, 53.6326657 , 57.16877721, 60.70488872,\n",
       "        64.24100023]),\n",
       " <BarContainer object of 10 artists>)"
      ]
     },
     "execution_count": 21,
     "metadata": {},
     "output_type": "execute_result"
    },
    {
     "data": {
      "image/png": "[encoded data removed]",
      "text/plain": [
       "<Figure size 432x288 with 1 Axes>"
      ]
     },
     "metadata": {
      "needs_background": "light"
     },
     "output_type": "display_data"
    }
   ],
   "source": [
    "# histogram to understand the distribution of data\n",
    "plt.hist(sample,bins=10)"
   ]
  },
  {
   "cell_type": "code",
   "execution_count": 22,
   "id": "e35f74b3",
   "metadata": {},
   "outputs": [],
   "source": [
    "# calculate mean and std.dev\n",
    "sample_mean = sample.mean()\n",
    "sample_sd = sample.std()"
   ]
  },
  {
   "cell_type": "code",
   "execution_count": 23,
   "id": "03c7abaf",
   "metadata": {},
   "outputs": [],
   "source": [
    "# fit the distribution with above parameters\n",
    "from scipy.stats import norm\n",
    "dist = norm(sample_mean,sample_sd)"
   ]
  },
  {
   "cell_type": "code",
   "execution_count": 24,
   "id": "68e26fc6",
   "metadata": {},
   "outputs": [],
   "source": [
    "#Genrating data points between min and max value\n",
    "values = np.linspace(sample.min(),sample.max(),100)"
   ]
  },
  {
   "cell_type": "code",
   "execution_count": 25,
   "id": "ef299bf0",
   "metadata": {},
   "outputs": [],
   "source": [
    "# pdf\n",
    "prob = [dist.pdf(value) for value in values]"
   ]
  },
  {
   "cell_type": "code",
   "execution_count": 26,
   "id": "ebe31148",
   "metadata": {},
   "outputs": [
    {
     "data": {
      "text/plain": [
       "[<matplotlib.lines.Line2D at 0x29f28f697f0>]"
      ]
     },
     "execution_count": 26,
     "metadata": {},
     "output_type": "execute_result"
    },
    {
     "data": {
      "image/png": "[encoded data removed]",
      "text/plain": [
       "<Figure size 432x288 with 1 Axes>"
      ]
     },
     "metadata": {
      "needs_background": "light"
     },
     "output_type": "display_data"
    }
   ],
   "source": [
    "# plot the original histogram and pdf\n",
    "plt.hist(sample,bins=10,density=True)\n",
    "plt.plot(values,prob)\n"
   ]
  },
  {
   "cell_type": "markdown",
   "id": "d217af30",
   "metadata": {},
   "source": [
    "### KERNEL DENSITY ESTIMATION (KDE)"
   ]
  },
  {
   "cell_type": "code",
   "execution_count": 27,
   "id": "f02f3fa9",
   "metadata": {},
   "outputs": [],
   "source": [
    "# generate a sample\n",
    "samp1 = normal(loc=20,scale=5,size=300)\n",
    "samp2 = normal(loc=40,scale=5,size=700)\n",
    "sample = np.hstack((samp1,samp2))"
   ]
  },
  {
   "cell_type": "code",
   "execution_count": 28,
   "id": "dcfca3c0",
   "metadata": {},
   "outputs": [
    {
     "data": {
      "text/plain": [
       "array([17.63452679, 24.83759418, 18.86280943, 15.03613984, 21.4375332 ,\n",
       "       17.53612106, 13.53059373, 18.76983485, 19.70187717, 23.20748432,\n",
       "       22.07421995, 21.87272835, 17.00552022, 21.10849381, 14.15367636,\n",
       "       25.80236341, 23.19681469, 22.55047058, 20.91033722, 22.47031816,\n",
       "       19.47094945, 19.60181962, 24.03392111, 19.5193949 , 21.59072918,\n",
       "       26.13079314, 17.63521673, 21.53071009, 24.76536342, 21.84258188,\n",
       "       21.13122058, 23.36669799, 12.83667673,  9.50179658, 15.70008629,\n",
       "       21.27767599, 28.24967377, 19.29074106, 12.92785664, 17.39095075,\n",
       "       23.81409896, 18.04160708, 18.54743019, 10.75827228, 25.14418593,\n",
       "       15.2932839 , 32.74376242, 15.39769465, 19.31818075, 27.24020845,\n",
       "       19.78806496, 18.81699459, 21.19256178, 21.90755409,  7.84219457,\n",
       "       14.81050132, 17.85695553, 22.72089931, 13.33609819, 18.90956299,\n",
       "       18.00098982, 24.17599741, 25.08367146, 16.5303771 , 18.19887711,\n",
       "       24.06782878,  7.51202404, 19.05221076, 24.22731053, 17.36082003,\n",
       "       16.3952891 , 27.02344796, 21.75937607, 14.68034255, 15.55227778,\n",
       "       23.96242484, 22.31282741, 16.44942158, 21.66720851, 23.73903075,\n",
       "       19.05244717, 18.58036069, 16.81112288, 25.60402897, 16.89254857,\n",
       "       26.19633095, 17.02359159, 27.03902322, 26.6205874 , 17.91019333,\n",
       "       20.52771911, 16.26650897, 10.6186833 , 11.30722202, 22.66614455,\n",
       "       25.01150548, 27.00819924, 13.47775321, 24.78705526, 21.09198957,\n",
       "       17.36463137, 26.90532476, 22.15773514, 14.49658553, 19.98510913,\n",
       "       13.76214334, 13.51639739, 15.73553883, 17.20129159, 23.18966882,\n",
       "       21.63193986, 24.18265103, 11.49366881, 13.81957312, 12.65774511,\n",
       "       31.17424635, 34.56215035, 15.47323459, 19.74755675, 16.70669189,\n",
       "       21.84609838, 22.7156934 , 20.61392511, 25.36658549, 15.92095206,\n",
       "       21.82592006, 19.24844694, 16.85357835, 23.62318401,  7.49428783,\n",
       "       23.50039219, 22.0049241 , 22.32622304, 27.98416676, 20.99635482,\n",
       "       25.41818236, 21.49185492,  9.76151638, 14.91361904, 12.20224583,\n",
       "       19.95725232, 13.65806754, 23.81486294, 23.5999171 , 18.7900152 ,\n",
       "       21.94106489, 22.67983241, 19.77288841, 18.26087194, 23.38274474,\n",
       "       13.28633598, 23.3241159 , 19.99455259, 15.87541345, 17.07463141,\n",
       "       22.94740938, 21.55979678, 14.64910118, 21.86929856, 15.82125228,\n",
       "       22.54756204, 22.47415145, 16.88126037, 22.31807876, 15.85268165,\n",
       "       17.61330694, 15.29975312, 29.00708512, 17.78754629, 20.45531105,\n",
       "       21.71398931, 24.1253972 , 16.82926331, 22.58056425, 17.11091605,\n",
       "       17.55327329, 26.24548245,  9.8333025 , 21.08459585, 15.97303416,\n",
       "       17.36711214, 17.42563509, 28.54469791, 11.79803429, 17.62676318,\n",
       "       20.57568197, 19.95889588, 18.55014747, 16.44869627, 26.07095613,\n",
       "       24.94296348, 23.00074409, 26.33606749, 12.43452485, 18.41546367,\n",
       "       21.25017559, 21.77653109, 21.58252285, 21.21835858, 18.09657383,\n",
       "       23.95511907, 13.16074824, 25.20311466, 19.95034622, 21.87971599,\n",
       "       18.22098411, 19.50926137, 18.23518865, 23.7589543 , 23.30965984,\n",
       "       19.29412805, 20.33843251, 21.91767097, 23.64772536, 25.85468722,\n",
       "       16.62707676, 16.49108592, 26.51894228, 17.09621615, 17.85997258,\n",
       "       27.0509496 , 17.72174786, 27.00648385, 20.6066905 , 21.05431322,\n",
       "       19.4250763 , 18.19728894, 22.50205298, 20.76899122, 19.06898957,\n",
       "       15.04833138, 23.48183635, 20.40338814, 17.49318533, 20.42460656,\n",
       "       19.62098793, 15.97934272, 18.63284223, 13.08761007, 20.35016789,\n",
       "       12.5650665 , 19.80306225, 18.88906077, 20.71292471, 26.01059994,\n",
       "       19.52364828, 17.3764766 , 29.74641912, 25.06412664, 19.20013586,\n",
       "       25.10270872, 19.37576013, 26.60808412, 18.61139835, 16.5192487 ,\n",
       "       21.17800597, 11.88886847, 24.24411163, 21.56763693, 14.43349995,\n",
       "       19.65211494, 22.36686834, 19.08531366, 19.45149726, 19.05937058,\n",
       "       16.58534462, 11.90258915, 19.67670604,  7.33813955, 24.29521373,\n",
       "       20.15740886, 21.42176266, 15.00540408, 11.26576244, 23.2065126 ,\n",
       "       10.81762363, 27.01622841, 15.5760303 , 16.8806049 , 12.46522873,\n",
       "       19.85596747, 23.30727291, 18.69745318, 18.77384755, 14.54674826,\n",
       "       14.37534788, 12.25544878, 19.55458797, 26.98795144, 25.14498804,\n",
       "       19.01955484, 21.21212514, 19.53435576, 10.61090742, 21.97202466,\n",
       "       19.63509293, 22.45943272, 22.62171753, 12.90112408, 12.65859918,\n",
       "       31.82063821, 48.29048186, 35.17187728, 40.80774363, 42.322     ,\n",
       "       42.12291773, 39.33905766, 36.96605109, 42.62907468, 47.9143873 ,\n",
       "       46.11844931, 48.79572651, 39.42242204, 38.32148389, 34.92571286,\n",
       "       35.5438163 , 33.28233871, 35.54242926, 37.34463475, 36.65905277,\n",
       "       49.20575669, 43.39395705, 39.0581544 , 42.90833011, 38.4750232 ,\n",
       "       47.77157548, 46.70211658, 42.64447901, 54.37075236, 37.27850942,\n",
       "       41.0341757 , 50.23294167, 39.1645332 , 35.3915568 , 32.38767414,\n",
       "       41.00575911, 40.89273005, 40.55301437, 39.06869238, 39.10690421,\n",
       "       43.3264543 , 34.33299579, 39.27856119, 38.00056659, 33.28365032,\n",
       "       41.52388965, 41.42949242, 32.53040644, 40.55319106, 43.32354176,\n",
       "       44.65804442, 35.53375939, 40.85244666, 35.41649637, 38.25094502,\n",
       "       36.08902691, 37.592828  , 33.04385108, 37.35642496, 43.54245846,\n",
       "       39.77409389, 45.1412141 , 39.34839987, 36.14881075, 45.8811777 ,\n",
       "       40.62916643, 42.6662732 , 39.03472831, 41.89437179, 46.46164641,\n",
       "       44.0892687 , 38.10418091, 43.00560517, 34.84935494, 50.10156849,\n",
       "       38.56666883, 37.50354331, 32.37329294, 33.83586737, 43.57042772,\n",
       "       43.96846487, 39.4841639 , 41.57848183, 46.61271217, 38.43217696,\n",
       "       40.13796492, 46.97765677, 37.53841098, 37.44490626, 35.37540732,\n",
       "       40.88956319, 36.96468079, 44.90807287, 45.87824315, 57.72057868,\n",
       "       43.83008691, 41.25040259, 29.05886511, 33.80816663, 43.59794674,\n",
       "       38.28508012, 44.47125811, 45.68482969, 46.76173361, 29.92657677,\n",
       "       41.17110635, 43.44136483, 44.81007899, 37.71351779, 39.43349747,\n",
       "       42.21645211, 46.06526282, 46.46233273, 45.02261863, 40.07666363,\n",
       "       40.8335474 , 38.13269577, 38.19409927, 42.86542566, 46.7781454 ,\n",
       "       39.54315191, 41.40164978, 30.52666394, 41.92893587, 44.02403785,\n",
       "       40.26905911, 36.02597906, 43.17218309, 27.90781184, 32.01284728,\n",
       "       43.95681381, 37.24159537, 41.53784499, 37.38869628, 41.73252977,\n",
       "       43.42967044, 39.11516582, 42.84909677, 38.9875871 , 44.04534267,\n",
       "       29.13861094, 38.01233948, 36.36639225, 40.95645629, 35.7826223 ,\n",
       "       35.50547946, 40.4841184 , 40.43575563, 43.77668853, 35.32045064,\n",
       "       38.52501395, 39.4952656 , 40.88154077, 40.33808514, 26.25155888,\n",
       "       43.37819917, 34.43683183, 41.30175352, 37.60148367, 40.69413927,\n",
       "       35.9535229 , 39.95837077, 39.97146623, 49.10522957, 35.82152843,\n",
       "       37.09438609, 44.54529731, 36.04637278, 41.59144653, 42.52160546,\n",
       "       41.80944576, 44.08562375, 37.00338118, 45.08811978, 45.51256914,\n",
       "       37.45808203, 38.83782918, 42.08473202, 48.55702606, 34.73359226,\n",
       "       35.99098614, 34.24716424, 40.37412015, 41.25250018, 46.62676725,\n",
       "       36.23989584, 42.99535736, 37.12113971, 35.63069923, 52.59490911,\n",
       "       47.48295704, 43.65119793, 48.96033648, 39.57946534, 46.44986785,\n",
       "       36.40438375, 38.30623683, 33.0038238 , 40.63844933, 43.99002688,\n",
       "       47.71382066, 36.58353251, 34.4893266 , 45.64360755, 32.73160212,\n",
       "       40.23604437, 49.90470229, 43.25499787, 33.484455  , 37.35322223,\n",
       "       41.07860406, 44.68498603, 38.91282271, 40.22809411, 36.91309049,\n",
       "       44.40858938, 37.35910769, 37.95459541, 40.48000649, 35.58553898,\n",
       "       43.11855982, 33.01744021, 41.71441245, 34.0733814 , 42.27854641,\n",
       "       31.58418404, 41.34888827, 32.65389663, 30.82095307, 35.83689045,\n",
       "       42.01931755, 41.29945627, 41.87186189, 43.77355668, 37.66682322,\n",
       "       38.02117518, 46.876816  , 42.00114833, 32.47130969, 33.37450061,\n",
       "       49.51110282, 41.89033006, 34.3667415 , 37.86611554, 40.28478403,\n",
       "       43.47760301, 39.16392805, 43.87024308, 35.13934996, 48.4873288 ,\n",
       "       43.80074349, 37.29526514, 46.74385777, 36.30921147, 45.18697681,\n",
       "       39.38437002, 40.40571299, 38.1075423 , 40.14071988, 38.28906718,\n",
       "       43.24807459, 37.19425854, 38.38291958, 41.63439673, 38.64980955,\n",
       "       37.51696589, 36.48039649, 36.76587084, 39.91162024, 36.21049162,\n",
       "       42.90637806, 38.33263665, 38.07287594, 39.28856007, 47.090454  ,\n",
       "       43.64294841, 41.97710915, 45.94537141, 41.35662192, 42.06443437,\n",
       "       44.06238738, 40.87644205, 30.90113414, 40.46649675, 37.03372465,\n",
       "       40.7674202 , 44.9137548 , 43.03397181, 40.26165301, 45.02862509,\n",
       "       37.79085597, 42.42300596, 42.23911721, 37.37561423, 37.04716293,\n",
       "       43.65185043, 42.44532295, 42.64401716, 45.10729545, 48.06052598,\n",
       "       36.02489617, 38.55610334, 45.44595461, 42.66141013, 37.90255127,\n",
       "       43.03003776, 31.65664505, 37.5794272 , 49.70174299, 43.68882625,\n",
       "       40.68773732, 45.00967644, 39.86451967, 41.417449  , 44.38902747,\n",
       "       42.31978007, 39.66399099, 35.63326191, 34.26977709, 48.19956174,\n",
       "       40.57604563, 40.16652301, 36.06772346, 41.31531874, 48.79135298,\n",
       "       43.34140764, 41.06893464, 45.48196982, 31.22161745, 45.10534229,\n",
       "       43.97719343, 35.52393406, 51.13425627, 44.0664028 , 42.36413335,\n",
       "       35.11326315, 42.699137  , 32.85028557, 46.69961633, 43.50053401,\n",
       "       39.90664493, 37.12517423, 40.15947228, 38.18329078, 41.42310464,\n",
       "       31.02835199, 37.32429565, 34.6932463 , 40.90907032, 49.77339703,\n",
       "       40.10570964, 31.50793327, 40.93831173, 30.33836351, 38.89428741,\n",
       "       42.17718572, 35.55482341, 45.47286049, 42.23445457, 30.95414978,\n",
       "       46.76430882, 38.97487319, 44.44336264, 38.90118638, 44.54595414,\n",
       "       44.52554283, 34.00083995, 51.32197043, 41.36175761, 44.42976156,\n",
       "       39.72615043, 29.10921937, 42.19100943, 36.05844353, 40.30836643,\n",
       "       35.83822599, 44.59487153, 45.59731679, 36.10806667, 38.10840204,\n",
       "       38.07958454, 43.86343469, 35.39856958, 38.02493753, 35.16657936,\n",
       "       49.20822039, 36.92019219, 43.42319564, 40.48249904, 43.46142379,\n",
       "       42.33317462, 40.3239009 , 42.2183537 , 45.52812148, 52.02902275,\n",
       "       36.99037449, 39.39894861, 40.4540255 , 41.42353491, 41.19095185,\n",
       "       37.93017523, 41.74612763, 44.30008324, 40.12504784, 39.75948096,\n",
       "       43.42463858, 49.19937492, 38.01779357, 37.50375291, 26.71775797,\n",
       "       31.98304746, 38.50803992, 45.93535252, 31.5083558 , 35.56161741,\n",
       "       35.12774548, 45.05651056, 30.17066212, 43.1957338 , 37.59908629,\n",
       "       44.89836398, 48.93875862, 48.46180878, 36.98112266, 48.10830504,\n",
       "       40.33794334, 37.85691081, 41.96501826, 34.01731066, 37.22598358,\n",
       "       44.58030683, 36.18257907, 35.20837826, 36.7176327 , 41.76025272,\n",
       "       48.15090822, 40.27713979, 37.07220482, 41.0104322 , 44.75252796,\n",
       "       36.01355363, 43.77445158, 46.43485538, 40.18188971, 47.87563009,\n",
       "       38.54522893, 41.62039872, 32.39177297, 33.61456489, 53.4939677 ,\n",
       "       34.63543956, 38.2317384 , 37.06337665, 39.13172329, 33.66158804,\n",
       "       37.80360946, 38.74661114, 42.70333113, 38.3277274 , 42.18794614,\n",
       "       51.47107346, 48.82605565, 41.3721036 , 38.451629  , 39.74076391,\n",
       "       39.98846916, 37.76655535, 44.2826441 , 36.53617924, 41.51468049,\n",
       "       40.97992144, 39.85079035, 44.91514081, 45.89335903, 28.7139    ,\n",
       "       45.49454515, 39.85068929, 34.77034857, 33.25016327, 36.48431568,\n",
       "       34.06168838, 42.93969464, 49.3005609 , 41.51507423, 39.31059673,\n",
       "       46.40029981, 35.39948211, 36.82356289, 40.96819173, 39.44954134,\n",
       "       38.95185326, 37.62506157, 48.87246879, 39.06146459, 38.36194012,\n",
       "       48.9416307 , 39.40435535, 34.12461261, 37.39637888, 44.82786293,\n",
       "       41.05638478, 52.44747055, 35.59637197, 34.52941215, 34.06574699,\n",
       "       38.93581799, 49.97236772, 32.7278761 , 41.28107442, 43.0213674 ,\n",
       "       51.16470319, 34.31784603, 36.82688524, 40.23325253, 39.73753893,\n",
       "       35.69002714, 39.83820218, 43.66843426, 50.3334768 , 40.25705227,\n",
       "       42.11344703, 30.92747279, 46.674168  , 31.68640449, 42.2324045 ,\n",
       "       37.08662737, 43.20342976, 35.92793061, 41.89152427, 41.86048236,\n",
       "       41.29094324, 34.31133349, 37.31274659, 36.88814426, 36.53979419,\n",
       "       50.95116093, 35.99859143, 44.89679186, 47.15373092, 37.6458933 ,\n",
       "       41.58034105, 33.48379246, 34.81491723, 33.21291288, 45.37965936,\n",
       "       32.71026341, 48.25863938, 27.90313895, 44.90798401, 49.02949999,\n",
       "       27.16373627, 34.63407747, 39.55953642, 40.95506387, 38.87659074,\n",
       "       34.17149614, 30.98585501, 49.58149399, 47.01003885, 42.85537954,\n",
       "       37.21808392, 36.8880256 , 36.92887008, 38.25617011, 40.87430571,\n",
       "       44.37203231, 52.2262939 , 40.82560533, 49.9664159 , 47.32524235,\n",
       "       39.99736483, 38.11486186, 41.4478514 , 45.2222682 , 39.35507461,\n",
       "       35.30214766, 42.87468242, 32.46327311, 37.3700109 , 38.84297263,\n",
       "       34.35199427, 40.61642099, 35.60015736, 40.43245008, 46.23402292,\n",
       "       41.98084007, 43.87788639, 36.35615148, 27.93218753, 36.07387213,\n",
       "       37.63375411, 41.31097897, 41.36825669, 40.30785253, 36.72098146,\n",
       "       43.93695719, 39.06714609, 35.98052906, 41.17270688, 40.33960676,\n",
       "       44.56882215, 41.096009  , 45.71808222, 35.97055773, 33.39359382,\n",
       "       38.08030821, 42.48273133, 33.76537022, 42.80184885, 34.59597256,\n",
       "       40.79487927, 38.12768227, 35.44932997, 46.03497362, 42.11160552,\n",
       "       42.7550694 , 39.20350224, 38.68830859, 37.0713616 , 43.9673576 ,\n",
       "       36.35399819, 39.74860385, 37.09997682, 39.85586056, 45.65670855,\n",
       "       36.61085704, 39.4381558 , 37.70023764, 42.77998939, 40.3613095 ,\n",
       "       40.22723256, 37.29188185, 35.08562435, 44.73241997, 42.33357918,\n",
       "       38.73809067, 42.22510278, 28.97927035, 34.90801363, 45.58852961,\n",
       "       36.8997727 , 33.51838129, 45.4591269 , 41.94775879, 31.65315799,\n",
       "       46.41100203, 40.2902656 , 38.78100903, 42.41711297, 33.17823713,\n",
       "       32.79290695, 39.54317101, 44.33525171, 45.8583302 , 38.29092382,\n",
       "       28.86331255, 48.67343027, 38.29661209, 38.52336934, 41.48702857,\n",
       "       40.48070386, 34.55416427, 44.74191123, 40.60445152, 44.10900654,\n",
       "       41.69480936, 37.45447404, 39.25771922, 34.12939796, 34.13875917,\n",
       "       36.77461807, 42.79577943, 36.72565369, 41.04229423, 36.64496188,\n",
       "       48.87809969, 36.53930895, 39.35417751, 33.43080102, 37.48456953,\n",
       "       32.22517763, 41.90895715, 35.64546592, 40.39104898, 45.50310536,\n",
       "       41.01121593, 39.34505722, 44.60279276, 42.84394485, 31.86423161,\n",
       "       34.86002585, 42.12674829, 38.14636703, 42.82047264, 33.84082527,\n",
       "       35.17259881, 31.51829586, 42.89397682, 33.04011818, 40.73304429])"
      ]
     },
     "execution_count": 28,
     "metadata": {},
     "output_type": "execute_result"
    }
   ],
   "source": [
    "sample"
   ]
  },
  {
   "cell_type": "code",
   "execution_count": 31,
   "id": "9faf3eb2",
   "metadata": {},
   "outputs": [
    {
     "data": {
      "image/png": "[encoded data removed]",
      "text/plain": [
       "<Figure size 432x288 with 1 Axes>"
      ]
     },
     "metadata": {
      "needs_background": "light"
     },
     "output_type": "display_data"
    }
   ],
   "source": [
    "# plot histogram\n",
    "plt.hist(sample,bins=50)\n",
    "plt.show()"
   ]
  },
  {
   "cell_type": "code",
   "execution_count": 32,
   "id": "47431648",
   "metadata": {},
   "outputs": [
    {
     "data": {
      "text/plain": [
       "KernelDensity(bandwidth=3)"
      ]
     },
     "execution_count": 32,
     "metadata": {},
     "output_type": "execute_result"
    }
   ],
   "source": [
    "from sklearn.neighbors import KernelDensity\n",
    "\n",
    "model = KernelDensity(bandwidth = 3 , kernel = 'gaussian')\n",
    "\n",
    "#convert data to 2d array\n",
    "sample = sample.reshape(len(sample),1)\n",
    "model.fit(sample)"
   ]
  },
  {
   "cell_type": "code",
   "execution_count": 33,
   "id": "40310316",
   "metadata": {},
   "outputs": [],
   "source": [
    "# Genrating random values between min and max\n",
    "values = np.linspace(sample.min(),sample.max(),100)\n",
    "values = values.reshape(len(values),1)"
   ]
  },
  {
   "cell_type": "code",
   "execution_count": 34,
   "id": "6e64d453",
   "metadata": {},
   "outputs": [],
   "source": [
    "prob = model.score_samples(values)\n",
    "prob = np.exp(prob) #score_sample values are log values so take exponent to get actual estimate"
   ]
  },
  {
   "cell_type": "code",
   "execution_count": 35,
   "id": "ef7df666",
   "metadata": {},
   "outputs": [
    {
     "data": {
      "image/png": "[encoded data removed]",
      "text/plain": [
       "<Figure size 432x288 with 1 Axes>"
      ]
     },
     "metadata": {
      "needs_background": "light"
     },
     "output_type": "display_data"
    }
   ],
   "source": [
    "plt.hist(sample,bins=50,density=True)\n",
    "plt.plot(values[:],prob)\n",
    "plt.show()"
   ]
  },
  {
   "cell_type": "code",
   "execution_count": 43,
   "id": "81eee333",
   "metadata": {},
   "outputs": [
    {
     "data": {
      "image/png": "[encoded data removed]",
      "text/plain": [
       "<Figure size 432x288 with 1 Axes>"
      ]
     },
     "metadata": {
      "needs_background": "light"
     },
     "output_type": "display_data"
    }
   ],
   "source": [
    "import seaborn as sns\n",
    "sns.kdeplot(sample.reshape(1000))\n",
    "plt.show()"
   ]
  },
  {
   "cell_type": "code",
   "execution_count": null,
   "id": "db0cb8e7",
   "metadata": {},
   "outputs": [],
   "source": []
  }
 ],
 "metadata": {
  "kernelspec": {
   "display_name": "Python 3 (ipykernel)",
   "language": "python",
   "name": "python3"
  },
  "language_info": {
   "codemirror_mode": {
    "name": "ipython",
    "version": 3
   },
   "file_extension": ".py",
   "mimetype": "text/x-python",
   "name": "python",
   "nbconvert_exporter": "python",
   "pygments_lexer": "ipython3",
   "version": "3.9.12"
  }
 },
 "nbformat": 4,
 "nbformat_minor": 5
}
