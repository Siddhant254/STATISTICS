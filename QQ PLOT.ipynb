{
 "cells": [
  {
   "cell_type": "code",
   "execution_count": 1,
   "id": "b31e99b5",
   "metadata": {},
   "outputs": [],
   "source": [
    "# USED TO ASSSESS THE SIMILARITY OF THE DISTRIBUTION OF TWO DATASETS"
   ]
  },
  {
   "cell_type": "code",
   "execution_count": 2,
   "id": "0fab441d",
   "metadata": {},
   "outputs": [],
   "source": [
    "#IMPORTS\n",
    "import numpy as np\n",
    "import pandas as pd\n",
    "import matplotlib.pyplot as plt\n",
    "import seaborn as sns\n",
    "sns.set()\n"
   ]
  },
  {
   "cell_type": "code",
   "execution_count": 3,
   "id": "3fdde514",
   "metadata": {},
   "outputs": [
    {
     "data": {
      "text/html": [
       "<div>\n",
       "<style scoped>\n",
       "    .dataframe tbody tr th:only-of-type {\n",
       "        vertical-align: middle;\n",
       "    }\n",
       "\n",
       "    .dataframe tbody tr th {\n",
       "        vertical-align: top;\n",
       "    }\n",
       "\n",
       "    .dataframe thead th {\n",
       "        text-align: right;\n",
       "    }\n",
       "</style>\n",
       "<table border=\"1\" class=\"dataframe\">\n",
       "  <thead>\n",
       "    <tr style=\"text-align: right;\">\n",
       "      <th></th>\n",
       "      <th>sepal_length</th>\n",
       "      <th>sepal_width</th>\n",
       "      <th>petal_length</th>\n",
       "      <th>petal_width</th>\n",
       "      <th>species</th>\n",
       "    </tr>\n",
       "  </thead>\n",
       "  <tbody>\n",
       "    <tr>\n",
       "      <th>0</th>\n",
       "      <td>5.1</td>\n",
       "      <td>3.5</td>\n",
       "      <td>1.4</td>\n",
       "      <td>0.2</td>\n",
       "      <td>setosa</td>\n",
       "    </tr>\n",
       "    <tr>\n",
       "      <th>1</th>\n",
       "      <td>4.9</td>\n",
       "      <td>3.0</td>\n",
       "      <td>1.4</td>\n",
       "      <td>0.2</td>\n",
       "      <td>setosa</td>\n",
       "    </tr>\n",
       "    <tr>\n",
       "      <th>2</th>\n",
       "      <td>4.7</td>\n",
       "      <td>3.2</td>\n",
       "      <td>1.3</td>\n",
       "      <td>0.2</td>\n",
       "      <td>setosa</td>\n",
       "    </tr>\n",
       "    <tr>\n",
       "      <th>3</th>\n",
       "      <td>4.6</td>\n",
       "      <td>3.1</td>\n",
       "      <td>1.5</td>\n",
       "      <td>0.2</td>\n",
       "      <td>setosa</td>\n",
       "    </tr>\n",
       "    <tr>\n",
       "      <th>4</th>\n",
       "      <td>5.0</td>\n",
       "      <td>3.6</td>\n",
       "      <td>1.4</td>\n",
       "      <td>0.2</td>\n",
       "      <td>setosa</td>\n",
       "    </tr>\n",
       "  </tbody>\n",
       "</table>\n",
       "</div>"
      ],
      "text/plain": [
       "   sepal_length  sepal_width  petal_length  petal_width species\n",
       "0           5.1          3.5           1.4          0.2  setosa\n",
       "1           4.9          3.0           1.4          0.2  setosa\n",
       "2           4.7          3.2           1.3          0.2  setosa\n",
       "3           4.6          3.1           1.5          0.2  setosa\n",
       "4           5.0          3.6           1.4          0.2  setosa"
      ]
     },
     "execution_count": 3,
     "metadata": {},
     "output_type": "execute_result"
    }
   ],
   "source": [
    "# LOADING IRIS DATASET\n",
    "df = sns.load_dataset('iris')\n",
    "df.head()"
   ]
  },
  {
   "cell_type": "code",
   "execution_count": 5,
   "id": "00334458",
   "metadata": {},
   "outputs": [
    {
     "data": {
      "image/png": "[encoded data removed]",
      "text/plain": [
       "<Figure size 432x288 with 1 Axes>"
      ]
     },
     "metadata": {},
     "output_type": "display_data"
    }
   ],
   "source": [
    "# DISTRIBUTION OF SEPAL LENGTH\n",
    "sns.kdeplot(df['sepal_length'])\n",
    "plt.show()"
   ]
  },
  {
   "cell_type": "code",
   "execution_count": 6,
   "id": "da21cb7d",
   "metadata": {},
   "outputs": [],
   "source": [
    "# TORING SEPAL LENGTH VALUES INSIDE A LIST\n",
    "temp = sorted(df['sepal_length'].tolist())"
   ]
  },
  {
   "cell_type": "code",
   "execution_count": 7,
   "id": "020beb78",
   "metadata": {},
   "outputs": [
    {
     "data": {
      "text/plain": [
       "[4.3,\n",
       " 4.4,\n",
       " 4.4,\n",
       " 4.4,\n",
       " 4.5,\n",
       " 4.6,\n",
       " 4.6,\n",
       " 4.6,\n",
       " 4.6,\n",
       " 4.7,\n",
       " 4.7,\n",
       " 4.8,\n",
       " 4.8,\n",
       " 4.8,\n",
       " 4.8,\n",
       " 4.8,\n",
       " 4.9,\n",
       " 4.9,\n",
       " 4.9,\n",
       " 4.9,\n",
       " 4.9,\n",
       " 4.9,\n",
       " 5.0,\n",
       " 5.0,\n",
       " 5.0,\n",
       " 5.0,\n",
       " 5.0,\n",
       " 5.0,\n",
       " 5.0,\n",
       " 5.0,\n",
       " 5.0,\n",
       " 5.0,\n",
       " 5.1,\n",
       " 5.1,\n",
       " 5.1,\n",
       " 5.1,\n",
       " 5.1,\n",
       " 5.1,\n",
       " 5.1,\n",
       " 5.1,\n",
       " 5.1,\n",
       " 5.2,\n",
       " 5.2,\n",
       " 5.2,\n",
       " 5.2,\n",
       " 5.3,\n",
       " 5.4,\n",
       " 5.4,\n",
       " 5.4,\n",
       " 5.4,\n",
       " 5.4,\n",
       " 5.4,\n",
       " 5.5,\n",
       " 5.5,\n",
       " 5.5,\n",
       " 5.5,\n",
       " 5.5,\n",
       " 5.5,\n",
       " 5.5,\n",
       " 5.6,\n",
       " 5.6,\n",
       " 5.6,\n",
       " 5.6,\n",
       " 5.6,\n",
       " 5.6,\n",
       " 5.7,\n",
       " 5.7,\n",
       " 5.7,\n",
       " 5.7,\n",
       " 5.7,\n",
       " 5.7,\n",
       " 5.7,\n",
       " 5.7,\n",
       " 5.8,\n",
       " 5.8,\n",
       " 5.8,\n",
       " 5.8,\n",
       " 5.8,\n",
       " 5.8,\n",
       " 5.8,\n",
       " 5.9,\n",
       " 5.9,\n",
       " 5.9,\n",
       " 6.0,\n",
       " 6.0,\n",
       " 6.0,\n",
       " 6.0,\n",
       " 6.0,\n",
       " 6.0,\n",
       " 6.1,\n",
       " 6.1,\n",
       " 6.1,\n",
       " 6.1,\n",
       " 6.1,\n",
       " 6.1,\n",
       " 6.2,\n",
       " 6.2,\n",
       " 6.2,\n",
       " 6.2,\n",
       " 6.3,\n",
       " 6.3,\n",
       " 6.3,\n",
       " 6.3,\n",
       " 6.3,\n",
       " 6.3,\n",
       " 6.3,\n",
       " 6.3,\n",
       " 6.3,\n",
       " 6.4,\n",
       " 6.4,\n",
       " 6.4,\n",
       " 6.4,\n",
       " 6.4,\n",
       " 6.4,\n",
       " 6.4,\n",
       " 6.5,\n",
       " 6.5,\n",
       " 6.5,\n",
       " 6.5,\n",
       " 6.5,\n",
       " 6.6,\n",
       " 6.6,\n",
       " 6.7,\n",
       " 6.7,\n",
       " 6.7,\n",
       " 6.7,\n",
       " 6.7,\n",
       " 6.7,\n",
       " 6.7,\n",
       " 6.7,\n",
       " 6.8,\n",
       " 6.8,\n",
       " 6.8,\n",
       " 6.9,\n",
       " 6.9,\n",
       " 6.9,\n",
       " 6.9,\n",
       " 7.0,\n",
       " 7.1,\n",
       " 7.2,\n",
       " 7.2,\n",
       " 7.2,\n",
       " 7.3,\n",
       " 7.4,\n",
       " 7.6,\n",
       " 7.7,\n",
       " 7.7,\n",
       " 7.7,\n",
       " 7.7,\n",
       " 7.9]"
      ]
     },
     "execution_count": 7,
     "metadata": {},
     "output_type": "execute_result"
    }
   ],
   "source": [
    "temp"
   ]
  },
  {
   "cell_type": "code",
   "execution_count": 8,
   "id": "fcf46203",
   "metadata": {},
   "outputs": [],
   "source": [
    "# Storing all percentile values of sepal length \n",
    "y_quant = []\n",
    "\n",
    "for i in range(1,101):\n",
    "    y_quant.append(np.percentile(temp,i))"
   ]
  },
  {
   "cell_type": "code",
   "execution_count": 9,
   "id": "1e2f29d2",
   "metadata": {},
   "outputs": [],
   "source": [
    "# CREATING A NORMALLY DISTRIBUTED SAMPLE DATA\n",
    "samples = np.random.normal(loc=0,scale=1,size=1000)"
   ]
  },
  {
   "cell_type": "code",
   "execution_count": 16,
   "id": "a0327541",
   "metadata": {},
   "outputs": [],
   "source": [
    "# STORING PERCENTILE VALUES OF SAMPLES\n",
    "\n",
    "x_quant = []\n",
    "\n",
    "for i in range(1,101):\n",
    "    x_quant.append(np.percentile(samples,i))"
   ]
  },
  {
   "cell_type": "code",
   "execution_count": 18,
   "id": "debd3939",
   "metadata": {},
   "outputs": [
    {
     "name": "stderr",
     "output_type": "stream",
     "text": [
      "C:\\Users\\siddh\\anaconda3\\lib\\site-packages\\seaborn\\_decorators.py:36: FutureWarning: Pass the following variables as keyword args: x, y. From version 0.12, the only valid positional argument will be `data`, and passing other arguments without an explicit keyword will result in an error or misinterpretation.\n",
      "  warnings.warn(\n"
     ]
    },
    {
     "data": {
      "image/png": "[encoded data removed]",
      "text/plain": [
       "<Figure size 432x288 with 1 Axes>"
      ]
     },
     "metadata": {},
     "output_type": "display_data"
    }
   ],
   "source": [
    "# SCATTERPLOT\n",
    "sns.scatterplot(x_quant,y_quant)\n",
    "plt.show()"
   ]
  },
  {
   "cell_type": "code",
   "execution_count": 27,
   "id": "15a94c11",
   "metadata": {},
   "outputs": [
    {
     "data": {
      "image/png": "[encoded data removed]",
      "text/plain": [
       "<Figure size 432x288 with 1 Axes>"
      ]
     },
     "metadata": {},
     "output_type": "display_data"
    }
   ],
   "source": [
    "# USING STATSMODEL\n",
    "import statsmodels.api as sm\n",
    "\n",
    "#CREATE A QQPLOT OF TWO SETS OF DATA\n",
    "fig = sm.qqplot(df['sepal_length'],line='45',fit=True)\n",
    "\n",
    "plt.title('QQ PLOT')\n",
    "plt.xlabel('Theoretical quantities')\n",
    "plt.ylabel('Sample Quantities')\n",
    "\n",
    "plt.show()"
   ]
  },
  {
   "cell_type": "code",
   "execution_count": null,
   "id": "6ce09330",
   "metadata": {},
   "outputs": [],
   "source": []
  }
 ],
 "metadata": {
  "kernelspec": {
   "display_name": "Python 3 (ipykernel)",
   "language": "python",
   "name": "python3"
  },
  "language_info": {
   "codemirror_mode": {
    "name": "ipython",
    "version": 3
   },
   "file_extension": ".py",
   "mimetype": "text/x-python",
   "name": "python",
   "nbconvert_exporter": "python",
   "pygments_lexer": "ipython3",
   "version": "3.9.12"
  }
 },
 "nbformat": 4,
 "nbformat_minor": 5
}
